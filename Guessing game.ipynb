{
 "cells": [
  {
   "cell_type": "code",
   "execution_count": 1,
   "id": "661d5242-1a44-401f-aed9-b9db9edf9547",
   "metadata": {},
   "outputs": [],
   "source": [
    "import random"
   ]
  },
  {
   "cell_type": "code",
   "execution_count": 3,
   "id": "31f03e6c-0708-48ee-b723-816eaf6c8d96",
   "metadata": {},
   "outputs": [
    {
     "name": "stdout",
     "output_type": "stream",
     "text": [
      "Hello!!,nice to see you, All the best!!\n",
      "You have 3 attempts\n"
     ]
    },
    {
     "name": "stdin",
     "output_type": "stream",
     "text": [
      "Choose Difficulty level(easy,medium,hard): hard\n",
      "Guess the number between 1 to 100: 45\n"
     ]
    },
    {
     "name": "stdout",
     "output_type": "stream",
     "text": [
      "Too low!\n"
     ]
    },
    {
     "name": "stdin",
     "output_type": "stream",
     "text": [
      "Guess the number between 1 to 100: 40\n"
     ]
    },
    {
     "name": "stdout",
     "output_type": "stream",
     "text": [
      "Too low!\n"
     ]
    },
    {
     "name": "stdin",
     "output_type": "stream",
     "text": [
      "Guess the number between 1 to 100: 75\n"
     ]
    },
    {
     "name": "stdout",
     "output_type": "stream",
     "text": [
      "Too low!\n",
      "You have used 3 chances, better luck next time.\n"
     ]
    },
    {
     "name": "stdin",
     "output_type": "stream",
     "text": [
      "Do you want to play again? (yes/no):  no\n"
     ]
    },
    {
     "name": "stdout",
     "output_type": "stream",
     "text": [
      "Goodbye! Thanks for playing!\n"
     ]
    }
   ],
   "source": [
    "print('Hello!!,nice to see you, All the best!!')\n",
    "while True:\n",
    "    print('You have 3 attempts')\n",
    "    diff=input(\"Choose Difficulty level(easy,medium,hard):\").lower()\n",
    "    if diff == \"easy\":\n",
    "        number_to_guess = random.randint(1,5)\n",
    "        range_end=5\n",
    "    elif diff== \"medium\":\n",
    "        number_to_guess = random.randint(1,50)\n",
    "        range_end=50\n",
    "    elif diff == \"hard\":\n",
    "        number_to_guess = random.randint(1,100)\n",
    "        range_end=100\n",
    "\n",
    "    attempts=0\n",
    "\n",
    "    while attempts < 3:\n",
    "   \n",
    "        guess=int(input(f\"Guess the number between 1 to {range_end}:\"))\n",
    "        attempts+=1\n",
    "        if guess > number_to_guess:\n",
    "            print(\"Too high!\")\n",
    "        elif guess < number_to_guess:\n",
    "            print(\"Too low!\")\n",
    "        else:\n",
    "            print('You guessed it correct!!! Great!!!')\n",
    "            break \n",
    "            attempts+=1\n",
    "    if attempts == 3 and guess != number_to_guess:\n",
    "        print(f'You have used {attempts} chances, better luck next time.')\n",
    "    play_again = input(\"Do you want to play again? (yes/no): \").lower()\n",
    "    if play_again != 'yes':\n",
    "        print(\"Goodbye! Thanks for playing!\")\n",
    "        break \n",
    "    \n",
    "\n"
   ]
  },
  {
   "cell_type": "code",
   "execution_count": null,
   "id": "cca7acd1-a61c-452f-a450-57a95b9749f8",
   "metadata": {},
   "outputs": [],
   "source": []
  }
 ],
 "metadata": {
  "kernelspec": {
   "display_name": "Python 3 (ipykernel)",
   "language": "python",
   "name": "python3"
  },
  "language_info": {
   "codemirror_mode": {
    "name": "ipython",
    "version": 3
   },
   "file_extension": ".py",
   "mimetype": "text/x-python",
   "name": "python",
   "nbconvert_exporter": "python",
   "pygments_lexer": "ipython3",
   "version": "3.11.7"
  }
 },
 "nbformat": 4,
 "nbformat_minor": 5
}
